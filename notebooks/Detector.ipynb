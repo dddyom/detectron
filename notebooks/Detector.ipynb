{
 "cells": [
  {
   "cell_type": "code",
   "execution_count": 2,
   "id": "155de561",
   "metadata": {},
   "outputs": [],
   "source": [
    "from detectron2.engine import DefaultPredictor\n",
    "from detectron2.config import get_cfg\n",
    "from detectron2.data import MetadataCatalog\n",
    "from detectron2.utils.visualizer import ColorMode, Visualizer\n",
    "from detectron2 import model_zoo\n",
    "\n",
    "import cv2\n",
    "import numpy as np\n",
    "import matplotlib.pyplot as plt\n",
    "%matplotlib inline\n",
    "# plt.rcParams['figure.figsize'] = [10, 10]"
   ]
  },
  {
   "cell_type": "code",
   "execution_count": 3,
   "id": "a57c6064",
   "metadata": {},
   "outputs": [],
   "source": [
    "from detectron2.data.datasets import register_coco_instances\n",
    "register_coco_instances(\"_train\", {}, \"./coco_dataset/train/_annotations.coco.json\", \"./coco_dataset/train\")\n",
    "register_coco_instances(\"_val\", {}, \"./coco_dataset/valid/_annotations.coco.json\", \"./coco_dataset/valid\")\n",
    "register_coco_instances(\"_test\", {}, \"./coco_dataset/test/_annotations.coco.json\", \"./coco_dataset/test\")"
   ]
  },
  {
   "cell_type": "code",
   "execution_count": 4,
   "id": "e0fc1547",
   "metadata": {},
   "outputs": [],
   "source": [
    "from detectron2.data import MetadataCatalog\n",
    "MetadataCatalog.get(\"_train\").thing_classes = [\"sigal\", \"stray\", \"target\"]\n",
    "MetadataCatalog.get(\"_val\").thing_classes = [\"sigal\", \"stray\", \"target\"]\n",
    "MetadataCatalog.get(\"_test\").thing_classes = [\"sigal\", \"stray\", \"target\"]"
   ]
  },
  {
   "cell_type": "code",
   "execution_count": 5,
   "id": "6c0961bb",
   "metadata": {},
   "outputs": [],
   "source": [
    "class Detector:\n",
    "    def __init__(self, model_type=\"OD\") -> None:\n",
    "        self.cfg = get_cfg()\n",
    "        if model_type == \"OD\":\n",
    "            self.cfg.merge_from_file(model_zoo.get_config_file(\"COCO-Detection/faster_rcnn_X_101_32x8d_FPN_3x.yaml\"))\n",
    "            # self.cfg.MODEL.WEIGHTS = model_zoo.get_checkpoint_url(\"COCO-Detection/faster_rcnn_R_101_C4_3x.yaml\")\n",
    "            self.cfg.MODEL.WEIGHTS = \"../weights/model_final.pth\"\n",
    "            self.cfg.MODEL.ROI_HEADS.NUM_CLASSES = 3\n",
    "\n",
    "        elif model_type == \"IS\":\n",
    "            self.cfg.merge_from_file(model_zoo.get_config_file(\"COCO-InstanceSegmentation/mask_rcnn_R_50_FPN_3x.yaml\"))\n",
    "            self.cfg.MODEL.WEIGHTS = model_zoo.get_checkpoint_url(\"COCO-InstanceSegmentation/mask_rcnn_R_50_FPN_3x.yaml\")\n",
    "\n",
    "        self.cfg.MODEL.ROI_HEADS.SCORE_THRESH_TEST = 0.7\n",
    "        self.cfg.MODEL.DEVICE = \"cpu\"\n",
    "        self.cfg.DATASETS.TRAIN = (\"_train\",)\n",
    "        self.cfg.DATASETS.TEST = (\"_val\",)\n",
    "\n",
    "\n",
    "        self.predictor = DefaultPredictor(self.cfg)\n",
    "\n",
    "    def onImage(self, imagePath):\n",
    "        image0 = cv2.imread(imagePath)\n",
    "        image = cv2.resize(image0, (256, 240)) \n",
    "        predictions = self.predictor(image)\n",
    "\n",
    "\n",
    "#         print(predictions['instances'])\n",
    "        category_id = predictions['instances'].get(\"pred_classes\").numpy()\n",
    "        if 2 in category_id:\n",
    "\n",
    "            viz = Visualizer(image[:,:,::-1],\n",
    "                             metadata=MetadataCatalog.get(\"_train\"),\n",
    "            instance_mode=ColorMode.IMAGE)\n",
    "\n",
    "            output = viz.draw_instance_predictions(predictions[\"instances\"].to(\"cpu\"))\n",
    "            coordinates = []\n",
    "            for i in predictions[\"instances\"].pred_boxes.tensor.numpy():\n",
    "                coordinates.append(Detector.BoxCenter(i))\n",
    "\n",
    "    #         cv2.imshow(\"\", output.get_image()[:,:,::-1])\n",
    "\n",
    "            plt.imshow(cv2.cvtColor(output.get_image()[...,::-1], cv2.COLOR_BGR2RGB))\n",
    "            plt.axis(\"off\")\n",
    "            plt.tick_params(axis='both', left='off', top='off', right='off', bottom='off', labelleft='off', labeltop='off', labelright='off', labelbottom='off')\n",
    "            \n",
    "    #         cv2.waitKey(500)\n",
    "            plt.show()\n",
    "            return coordinates\n",
    "    def BoxCenter(box_coordinates):\n",
    "        x1, x2, y1, y2 = box_coordinates[0], box_coordinates[2], box_coordinates[1], box_coordinates[2]\n",
    "        return (x1 + x2) / 2, (y1 + y2) / 2"
   ]
  },
  {
   "cell_type": "code",
   "execution_count": 6,
   "id": "b94be1e2",
   "metadata": {},
   "outputs": [
    {
     "name": "stderr",
     "output_type": "stream",
     "text": [
      "The checkpoint state_dict contains keys that are not used by the model:\n",
      "  \u001b[35mpixel_mean\u001b[0m\n",
      "  \u001b[35mpixel_std\u001b[0m\n"
     ]
    }
   ],
   "source": [
    "detector = Detector(model_type=\"OD\")"
   ]
  },
  {
   "cell_type": "code",
   "execution_count": 7,
   "id": "db1906a8",
   "metadata": {},
   "outputs": [],
   "source": [
    "from time import time"
   ]
  },
  {
   "cell_type": "code",
   "execution_count": 18,
   "id": "254116d8",
   "metadata": {},
   "outputs": [
    {
     "name": "stdout",
     "output_type": "stream",
     "text": [
      "['0_0_0.png', '10_512_0.png', '11_512_240.png', '12_512_480.png', '13_512_720.png', '14_512_960.png', '15_768_0.png', '16_768_240.png', '17_768_480.png', '18_768_720.png', '19_768_960.png', '1_0_240.png', '20_1024_0.png', '21_1024_240.png', '22_1024_480.png', '23_1024_720.png', '24_1024_960.png', '25_1280_0.png', '26_1280_240.png', '27_1280_480.png', '28_1280_720.png', '29_1280_960.png', '2_0_480.png', '30_1536_0.png', '31_1536_240.png', '32_1536_480.png', '33_1536_720.png', '34_1536_960.png', '35_1792_0.png', '36_1792_240.png', '37_1792_480.png', '38_1792_720.png', '39_1792_960.png', '3_0_720.png', '4_0_960.png', '5_256_0.png', '6_256_240.png', '7_256_480.png', '8_256_720.png', '9_256_960.png']\n"
     ]
    }
   ],
   "source": [
    "import os\n",
    "fragments = os.listdir('../SO_201207_153155/')\n",
    "fragments.sort()\n",
    "print(fragments)"
   ]
  },
  {
   "cell_type": "code",
   "execution_count": 80,
   "id": "f07e0927",
   "metadata": {
    "scrolled": true
   },
   "outputs": [
    {
     "data": {
      "image/png": "[encoded data removed]",
      "text/plain": [
       "<Figure size 432x288 with 1 Axes>"
      ]
     },
     "metadata": {
      "needs_background": "light"
     },
     "output_type": "display_data"
    },
    {
     "data": {
      "text/plain": [
       "[(56.54869842529297, 78.57704162597656),\n",
       " (161.63645935058594, 144.69967651367188)]"
      ]
     },
     "execution_count": 80,
     "metadata": {},
     "output_type": "execute_result"
    }
   ],
   "source": [
    "detector.onImage('../SO_201207_153155/337_251.png')"
   ]
  },
  {
   "cell_type": "code",
   "execution_count": 10,
   "id": "62a1c40d",
   "metadata": {},
   "outputs": [
    {
     "name": "stdout",
     "output_type": "stream",
     "text": [
      "0_0.png Prediction time ->  -11.561103105545044\n",
      "0_240.png Prediction time ->  -9.52568507194519\n",
      "256_240.png Prediction time ->  -9.422028541564941\n",
      "256_0.png Prediction time ->  -9.52875280380249\n"
     ]
    }
   ],
   "source": [
    "\n",
    "\n",
    "most_timer = time()\n",
    "for i in fragments:\n",
    "    timer = time()\n",
    "    detector.onImage(f\"{'../SO_201207_153155/'}{i}\")\n",
    "    print(f\"{i} Prediction time -> \", timer - time())\n",
    "\n",
    "# print(\"Most Prediction time -> \", most_timer - time())\n"
   ]
  },
  {
   "cell_type": "code",
   "execution_count": null,
   "id": "9658e760",
   "metadata": {},
   "outputs": [],
   "source": []
  }
 ],
 "metadata": {
  "kernelspec": {
   "display_name": "Python 3 (ipykernel)",
   "language": "python",
   "name": "python3"
  },
  "language_info": {
   "codemirror_mode": {
    "name": "ipython",
    "version": 3
   },
   "file_extension": ".py",
   "mimetype": "text/x-python",
   "name": "python",
   "nbconvert_exporter": "python",
   "pygments_lexer": "ipython3",
   "version": "3.7.11"
  }
 },
 "nbformat": 4,
 "nbformat_minor": 5
}
