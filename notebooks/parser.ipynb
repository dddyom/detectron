{
 "cells": [
  {
   "cell_type": "code",
   "execution_count": 3,
   "id": "1c39f96d",
   "metadata": {},
   "outputs": [
    {
     "name": "stdout",
     "output_type": "stream",
     "text": [
      "['7_256_480.png', '1_0_240.png', '3_0_720.png', '19_768_960.png', '14_512_960.png', '10_512_0.png', '12_512_480.png', '27_1280_480.png', '28_1280_720.png', '35_1792_0.png', '6_256_240.png', '33_1536_720.png', '4_0_960.png', '34_1536_960.png', '9_256_960.png', '16_768_240.png', '32_1536_480.png', '2_0_480.png', '23_1024_720.png', '24_1024_960.png', '20_1024_0.png', '18_768_720.png', '21_1024_240.png', '15_768_0.png', '36_1792_240.png', '26_1280_240.png', '22_1024_480.png', '0_0_0.png', '5_256_0.png', '30_1536_0.png', '25_1280_0.png', '37_1792_480.png', '29_1280_960.png', '8_256_720.png', '13_512_720.png', '39_1792_960.png', '17_768_480.png', '31_1536_240.png', '11_512_240.png', '38_1792_720.png']\n"
     ]
    }
   ],
   "source": [
    "import os\n",
    "import re\n",
    "fragments = os.listdir('../SO_201207_153155/')\n",
    "print(fragments)"
   ]
  },
  {
   "cell_type": "code",
   "execution_count": 15,
   "id": "379015b5",
   "metadata": {},
   "outputs": [
    {
     "name": "stdout",
     "output_type": "stream",
     "text": [
      "[7, 256, 480]\n",
      "[1, 0, 240]\n",
      "[3, 0, 720]\n",
      "[19, 768, 960]\n",
      "[14, 512, 960]\n",
      "[10, 512, 0]\n",
      "[12, 512, 480]\n",
      "[27, 1280, 480]\n",
      "[28, 1280, 720]\n",
      "[35, 1792, 0]\n",
      "[6, 256, 240]\n",
      "[33, 1536, 720]\n",
      "[4, 0, 960]\n",
      "[34, 1536, 960]\n",
      "[9, 256, 960]\n",
      "[16, 768, 240]\n",
      "[32, 1536, 480]\n",
      "[2, 0, 480]\n",
      "[23, 1024, 720]\n",
      "[24, 1024, 960]\n",
      "[20, 1024, 0]\n",
      "[18, 768, 720]\n",
      "[21, 1024, 240]\n",
      "[15, 768, 0]\n",
      "[36, 1792, 240]\n",
      "[26, 1280, 240]\n",
      "[22, 1024, 480]\n",
      "[0, 0, 0]\n",
      "[5, 256, 0]\n",
      "[30, 1536, 0]\n",
      "[25, 1280, 0]\n",
      "[37, 1792, 480]\n",
      "[29, 1280, 960]\n",
      "[8, 256, 720]\n",
      "[13, 512, 720]\n",
      "[39, 1792, 960]\n",
      "[17, 768, 480]\n",
      "[31, 1536, 240]\n",
      "[11, 512, 240]\n",
      "[38, 1792, 720]\n"
     ]
    }
   ],
   "source": [
    "for i in fragments:\n",
    "    index, A, D_ = i.split('_')\n",
    "    D, _ = D_.split('.')\n",
    "    print(list(map(int, [index, A, D])))\n",
    "    "
   ]
  },
  {
   "cell_type": "code",
   "execution_count": null,
   "id": "2f67895e",
   "metadata": {},
   "outputs": [],
   "source": []
  }
 ],
 "metadata": {
  "kernelspec": {
   "display_name": "Python 3 (ipykernel)",
   "language": "python",
   "name": "python3"
  },
  "language_info": {
   "codemirror_mode": {
    "name": "ipython",
    "version": 3
   },
   "file_extension": ".py",
   "mimetype": "text/x-python",
   "name": "python",
   "nbconvert_exporter": "python",
   "pygments_lexer": "ipython3",
   "version": "3.7.11"
  }
 },
 "nbformat": 4,
 "nbformat_minor": 5
}
